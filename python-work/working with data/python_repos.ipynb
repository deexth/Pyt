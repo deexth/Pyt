{
 "cells": [
  {
   "cell_type": "markdown",
   "metadata": {},
   "source": [
    "Workin with the github api"
   ]
  },
  {
   "cell_type": "code",
   "execution_count": 94,
   "metadata": {},
   "outputs": [],
   "source": [
    "import requests\n",
    "import json\n",
    "from plotly import offline\n",
    "import plotly.graph_objects as go\n",
    "import plotly.express as px\n",
    "from random import choice"
   ]
  },
  {
   "cell_type": "markdown",
   "metadata": {},
   "source": [
    "Defining the url"
   ]
  },
  {
   "cell_type": "code",
   "execution_count": 95,
   "metadata": {},
   "outputs": [],
   "source": [
    "p_lang = [\"python\", \"javascript\", \"ruby\", \"c\", \"c++\", \"java\", \"php\", \"go\", \"swift\", \"kotlin\"]\n",
    "language = choice(p_lang)\n",
    "url = f\"https://api.github.com/search/repositories?q=language:{language}+sort:stars+stars:%3E10000\"\t\n",
    "headers = {\"Accept\": \"application/vnd.github+json\"}\n",
    "r = requests.get(url, headers=headers)\n",
    "response_dict = r.json()"
   ]
  },
  {
   "cell_type": "code",
   "execution_count": 96,
   "metadata": {},
   "outputs": [
    {
     "data": {
      "text/plain": [
       "dict_keys(['id', 'node_id', 'name', 'full_name', 'private', 'owner', 'html_url', 'description', 'fork', 'url', 'forks_url', 'keys_url', 'collaborators_url', 'teams_url', 'hooks_url', 'issue_events_url', 'events_url', 'assignees_url', 'branches_url', 'tags_url', 'blobs_url', 'git_tags_url', 'git_refs_url', 'trees_url', 'statuses_url', 'languages_url', 'stargazers_url', 'contributors_url', 'subscribers_url', 'subscription_url', 'commits_url', 'git_commits_url', 'comments_url', 'issue_comment_url', 'contents_url', 'compare_url', 'merges_url', 'archive_url', 'downloads_url', 'issues_url', 'pulls_url', 'milestones_url', 'notifications_url', 'labels_url', 'releases_url', 'deployments_url', 'created_at', 'updated_at', 'pushed_at', 'git_url', 'ssh_url', 'clone_url', 'svn_url', 'homepage', 'size', 'stargazers_count', 'watchers_count', 'language', 'has_issues', 'has_projects', 'has_downloads', 'has_wiki', 'has_pages', 'has_discussions', 'forks_count', 'mirror_url', 'archived', 'disabled', 'open_issues_count', 'license', 'allow_forking', 'is_template', 'web_commit_signoff_required', 'topics', 'visibility', 'forks', 'open_issues', 'watchers', 'default_branch', 'score'])"
      ]
     },
     "execution_count": 96,
     "metadata": {},
     "output_type": "execute_result"
    }
   ],
   "source": [
    "stars = []\n",
    "repos = []\n",
    "hover_text = []\n",
    "response_dict[\"items\"][0].keys()\n",
    "# print(f\"Complete results: {response_dict['incomplete_results']}\")"
   ]
  },
  {
   "cell_type": "markdown",
   "metadata": {},
   "source": [
    "Extracting the info"
   ]
  },
  {
   "cell_type": "code",
   "execution_count": 97,
   "metadata": {},
   "outputs": [],
   "source": [
    "for rep_dict in response_dict[\"items\"]:\n",
    "    repo = f\"<a href='{rep_dict['html_url']}'>{rep_dict['name']}</a>\"\n",
    "    stars.append(rep_dict[\"stargazers_count\"])\n",
    "    repos.append(repo)\n",
    "    owner = rep_dict[\"owner\"][\"login\"]\n",
    "    description = rep_dict[\"description\"]\n",
    "    label = f\"{owner}<br />{description}\"\n",
    "    hover_text.append(label)"
   ]
  },
  {
   "cell_type": "code",
   "execution_count": 98,
   "metadata": {},
   "outputs": [
    {
     "data": {
      "text/plain": [
       "'p_repos.html'"
      ]
     },
     "execution_count": 98,
     "metadata": {},
     "output_type": "execute_result"
    }
   ],
   "source": [
    "labels = {'y': 'Stars', 'x': 'Repo'}\n",
    "fig = px.bar(x=repos, y=stars, title=f\"Most starred {language} projects on GitHub\", labels=labels, hover_name=hover_text)\n",
    "fig.update_layout(title_font_size=28, xaxis_title_font_size=20,\n",
    "        yaxis_title_font_size=20)\n",
    "\n",
    "fig.update_traces(marker_color='Lightblue' , marker_opacity=0.6)\n",
    "# fig.show()\n",
    "offline.plot(fig, filename='p_repos.html')"
   ]
  },
  {
   "cell_type": "code",
   "execution_count": null,
   "metadata": {},
   "outputs": [],
   "source": []
  }
 ],
 "metadata": {
  "kernelspec": {
   "display_name": "Python 3",
   "language": "python",
   "name": "python3"
  },
  "language_info": {
   "codemirror_mode": {
    "name": "ipython",
    "version": 3
   },
   "file_extension": ".py",
   "mimetype": "text/x-python",
   "name": "python",
   "nbconvert_exporter": "python",
   "pygments_lexer": "ipython3",
   "version": "3.11.1"
  }
 },
 "nbformat": 4,
 "nbformat_minor": 2
}
