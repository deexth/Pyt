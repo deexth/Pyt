{
 "cells": [
  {
   "cell_type": "markdown",
   "metadata": {},
   "source": [
    "Working with json earthquake data\n"
   ]
  },
  {
   "cell_type": "code",
   "execution_count": 1,
   "metadata": {},
   "outputs": [
    {
     "name": "stdout",
     "output_type": "stream",
     "text": [
      "Requirement already satisfied: requests in c:\\users\\hkaba\\appdata\\local\\programs\\python\\python311\\lib\\site-packages (2.31.0)\n",
      "Requirement already satisfied: pandas in c:\\users\\hkaba\\appdata\\local\\programs\\python\\python311\\lib\\site-packages (2.1.1)\n",
      "Requirement already satisfied: charset-normalizer<4,>=2 in c:\\users\\hkaba\\appdata\\local\\programs\\python\\python311\\lib\\site-packages (from requests) (3.3.0)\n",
      "Requirement already satisfied: idna<4,>=2.5 in c:\\users\\hkaba\\appdata\\local\\programs\\python\\python311\\lib\\site-packages (from requests) (3.4)\n",
      "Requirement already satisfied: urllib3<3,>=1.21.1 in c:\\users\\hkaba\\appdata\\local\\programs\\python\\python311\\lib\\site-packages (from requests) (2.0.6)\n",
      "Requirement already satisfied: certifi>=2017.4.17 in c:\\users\\hkaba\\appdata\\local\\programs\\python\\python311\\lib\\site-packages (from requests) (2023.7.22)\n",
      "Requirement already satisfied: numpy>=1.23.2 in c:\\users\\hkaba\\appdata\\local\\programs\\python\\python311\\lib\\site-packages (from pandas) (1.24.2)\n",
      "Requirement already satisfied: python-dateutil>=2.8.2 in c:\\users\\hkaba\\appdata\\roaming\\python\\python311\\site-packages (from pandas) (2.8.2)\n",
      "Requirement already satisfied: pytz>=2020.1 in c:\\users\\hkaba\\appdata\\local\\programs\\python\\python311\\lib\\site-packages (from pandas) (2023.3.post1)\n",
      "Requirement already satisfied: tzdata>=2022.1 in c:\\users\\hkaba\\appdata\\local\\programs\\python\\python311\\lib\\site-packages (from pandas) (2023.3)\n",
      "Requirement already satisfied: six>=1.5 in c:\\users\\hkaba\\appdata\\roaming\\python\\python311\\site-packages (from python-dateutil>=2.8.2->pandas) (1.16.0)\n"
     ]
    }
   ],
   "source": [
    "!pip install requests pandas\n",
    "!pip install nbformat>=4.2.0"
   ]
  },
  {
   "cell_type": "code",
   "execution_count": 2,
   "metadata": {},
   "outputs": [],
   "source": [
    "import requests\n",
    "import pandas as pd\n",
    "from plotly.graph_objs import Scattergeo, Layout\n",
    "from plotly import offline\n",
    "import plotly.express as px\n",
    "import json\n",
    "# from datetime import datetime"
   ]
  },
  {
   "cell_type": "markdown",
   "metadata": {},
   "source": [
    "Scape the html and save the data in the file earthquake.json\n"
   ]
  },
  {
   "cell_type": "code",
   "execution_count": 3,
   "metadata": {},
   "outputs": [],
   "source": [
    "url = \"https://earthquake.usgs.gov/earthquakes/feed/v1.0/summary/all_month.geojson\"\n",
    "r = requests.get(url)\n",
    "# print(f\"Status code: {r.status_code}\")\n",
    "readable_file = json.loads(r.content.decode())\n",
    "filename = \"data/eq_data.json\"\n",
    "with open(filename, \"w\") as f:\n",
    "    json.dump(readable_file, f, indent=4)"
   ]
  },
  {
   "cell_type": "markdown",
   "metadata": {},
   "source": [
    "Extract useful information like latitude, loongitude, magnitude, etc..\n"
   ]
  },
  {
   "cell_type": "code",
   "execution_count": 4,
   "metadata": {},
   "outputs": [
    {
     "data": {
      "text/plain": [
       "[0.45, 2.89, 1.94, 0.55, 1.7, 2.4, 1.4, 0.6, 1.38, 4.7]"
      ]
     },
     "execution_count": 4,
     "metadata": {},
     "output_type": "execute_result"
    }
   ],
   "source": [
    "readable_file_dicts = readable_file[\"features\"]\n",
    "# len(readable_file_dicts)\n",
    "mags, lons, lats, places = [], [], [], []\n",
    "for quake in readable_file_dicts:\n",
    "    try:\n",
    "        mags.append(quake[\"properties\"][\"mag\"])\n",
    "        places.append(quake[\"properties\"][\"place\"])\n",
    "        lons.append(quake[\"geometry\"][\"coordinates\"][0])\n",
    "        lats.append(quake[\"geometry\"][\"coordinates\"][1])\n",
    "    except KeyError:\n",
    "        print(f\"Data missing for {quake['properties']['place']}\")\n",
    "        continue\n",
    "\n",
    "mags[:10]\n"
   ]
  },
  {
   "cell_type": "markdown",
   "metadata": {},
   "source": [
    "Plot the points\n"
   ]
  },
  {
   "cell_type": "code",
   "execution_count": 5,
   "metadata": {},
   "outputs": [
    {
     "data": {
      "text/plain": [
       "'earthquakes.html'"
      ]
     },
     "execution_count": 5,
     "metadata": {},
     "output_type": "execute_result"
    }
   ],
   "source": [
    "fig = px.scatter_geo(\n",
    "    lat=lats,\n",
    "    lon=lons,\n",
    "    size=[\n",
    "        mag if mag is not None and mag > 0 else 0 for mag in mags\n",
    "    ],\n",
    "    color=mags,\n",
    "    hover_name=places,\n",
    "    projection=\"orthographic\",\n",
    "    scope=\"world\",\n",
    "    title=\"Earthquakes\",\n",
    "    labels={\n",
    "        \"lat\": \"Latitude\",\n",
    "        \"lon\": \"Longitude\",\n",
    "        \"size\": \"Magnitude\",\n",
    "        \"color\": \"Magnitude\",\n",
    "    },\n",
    "    color_continuous_scale=px.colors.sequential.Viridis,\n",
    ")\n",
    "\n",
    "offline.plot(fig, filename=\"earthquakes.html\")\n"
   ]
  },
  {
   "cell_type": "code",
   "execution_count": null,
   "metadata": {},
   "outputs": [],
   "source": []
  }
 ],
 "metadata": {
  "kernelspec": {
   "display_name": "Python 3",
   "language": "python",
   "name": "python3"
  },
  "language_info": {
   "codemirror_mode": {
    "name": "ipython",
    "version": 3
   },
   "file_extension": ".py",
   "mimetype": "text/x-python",
   "name": "python",
   "nbconvert_exporter": "python",
   "pygments_lexer": "ipython3",
   "version": "3.11.1"
  }
 },
 "nbformat": 4,
 "nbformat_minor": 2
}
