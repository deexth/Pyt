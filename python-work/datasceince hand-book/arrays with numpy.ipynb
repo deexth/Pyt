{
 "cells": [
  {
   "cell_type": "code",
   "execution_count": 20,
   "id": "541e37ba-3ae1-48f2-9337-fc06993de774",
   "metadata": {},
   "outputs": [
    {
     "name": "stdout",
     "output_type": "stream",
     "text": [
      "Defaulting to user installation because normal site-packages is not writeable\n",
      "Requirement already satisfied: numpy in /home/kabare/.local/lib/python3.10/site-packages (1.26.2)\n",
      "Note: you may need to restart the kernel to use updated packages.\n"
     ]
    }
   ],
   "source": [
    "%pip install numpy\n",
    "\n",
    "import numpy as np"
   ]
  },
  {
   "cell_type": "code",
   "execution_count": 21,
   "id": "af150d6f-6007-49bf-938e-28bafb377260",
   "metadata": {},
   "outputs": [],
   "source": [
    "rng = np.random.default_rng(seed=1701)\n",
    "x2 = rng.integers(10, size=(3, 4, 5))\n",
    "x1 = rng.integers(10, size=6)\n",
    "x3 = rng.integers(10, size=(3, 4))"
   ]
  },
  {
   "cell_type": "code",
   "execution_count": 22,
   "id": "e69ad246-900f-4006-af92-bc27335254d2",
   "metadata": {},
   "outputs": [
    {
     "name": "stdout",
     "output_type": "stream",
     "text": [
      "[4 3 9 9 2 2] 1 (6,) 6 int64 8 48 [[[9 4 0 3 8]\n",
      "  [6 3 1 3 7]\n",
      "  [4 0 2 3 0]\n",
      "  [0 6 9 4 3]]\n",
      "\n",
      " [[5 5 0 8 3]\n",
      "  [5 2 2 1 8]\n",
      "  [8 5 3 0 0]\n",
      "  [8 5 8 5 1]]\n",
      "\n",
      " [[6 2 3 1 2]\n",
      "  [5 6 2 5 2]\n",
      "  [7 9 3 5 6]\n",
      "  [0 2 0 2 9]]]\n"
     ]
    }
   ],
   "source": [
    "print(x1, x1.ndim, x1.shape, x1.size, x1.dtype, x1.itemsize, x1.nbytes, x2)"
   ]
  },
  {
   "cell_type": "code",
   "execution_count": 23,
   "id": "701fd096-cf41-48e7-88bd-ca77633fb38a",
   "metadata": {},
   "outputs": [
    {
     "data": {
      "text/plain": [
       "array([[[ 9,  4,  0,  3,  8],\n",
       "        [ 6,  3, 42,  3,  7],\n",
       "        [ 4,  0,  2,  3,  0],\n",
       "        [ 0,  6,  9,  4,  3]],\n",
       "\n",
       "       [[ 5,  5,  0,  8,  3],\n",
       "        [ 5,  2,  2,  1,  8],\n",
       "        [ 8,  5,  3,  0,  0],\n",
       "        [ 8,  5,  8,  5,  1]],\n",
       "\n",
       "       [[ 6,  2,  3,  1,  2],\n",
       "        [ 5,  6,  2,  5,  2],\n",
       "        [ 7,  9,  3,  5,  6],\n",
       "        [ 0,  2,  0,  2,  9]]])"
      ]
     },
     "execution_count": 23,
     "metadata": {},
     "output_type": "execute_result"
    }
   ],
   "source": [
    "x2[0,1,2] = 42.7\n",
    "x2"
   ]
  },
  {
   "cell_type": "code",
   "execution_count": 24,
   "metadata": {},
   "outputs": [
    {
     "name": "stdout",
     "output_type": "stream",
     "text": [
      "[8 1 2 2 5]\n",
      "------------------\n",
      "[2 2 9 9 3 4]\n"
     ]
    }
   ],
   "source": [
    "# Reversing the array for x2 and x1\n",
    "# x2[::-1, ::-1, ::-1]\n",
    "print(x2[1, 1, ::-1])\n",
    "print(\"------------------\")\n",
    "print(x1[::-1])"
   ]
  },
  {
   "cell_type": "code",
   "execution_count": 25,
   "metadata": {},
   "outputs": [
    {
     "data": {
      "text/plain": [
       "array([[9, 4, 0, 3, 8],\n",
       "       [5, 5, 0, 8, 3],\n",
       "       [6, 2, 3, 1, 2]])"
      ]
     },
     "execution_count": 25,
     "metadata": {},
     "output_type": "execute_result"
    }
   ],
   "source": [
    "x2[:, 0, :]"
   ]
  },
  {
   "cell_type": "code",
   "execution_count": 26,
   "metadata": {},
   "outputs": [
    {
     "data": {
      "text/plain": [
       "array([[4, 0],\n",
       "       [0, 0]])"
      ]
     },
     "execution_count": 26,
     "metadata": {},
     "output_type": "execute_result"
    }
   ],
   "source": [
    "# changing a subarray \n",
    "x3_sub = x3[:2, :2]\n",
    "x3_sub"
   ]
  },
  {
   "cell_type": "code",
   "execution_count": 37,
   "metadata": {},
   "outputs": [
    {
     "data": {
      "text/plain": [
       "array([[99,  0,  0,  3],\n",
       "       [ 0,  0,  2,  3],\n",
       "       [ 2,  7,  4,  7]])"
      ]
     },
     "execution_count": 37,
     "metadata": {},
     "output_type": "execute_result"
    }
   ],
   "source": [
    "x3_sub[0, 0] = 99\n",
    "x3"
   ]
  },
  {
   "cell_type": "markdown",
   "metadata": {},
   "source": [
    "The above 2 lines will also modify the original arraty"
   ]
  },
  {
   "cell_type": "code",
   "execution_count": 28,
   "metadata": {},
   "outputs": [
    {
     "data": {
      "text/plain": [
       "array([[99,  0,  0,  3],\n",
       "       [ 0,  0,  2,  3],\n",
       "       [ 2,  7,  4,  7]])"
      ]
     },
     "execution_count": 28,
     "metadata": {},
     "output_type": "execute_result"
    }
   ],
   "source": [
    "x3\n"
   ]
  },
  {
   "cell_type": "code",
   "execution_count": 29,
   "metadata": {},
   "outputs": [
    {
     "data": {
      "text/plain": [
       "array([[99,  0,  0,  3],\n",
       "       [ 0,  0,  2,  3],\n",
       "       [ 2,  7,  4,  7]])"
      ]
     },
     "execution_count": 29,
     "metadata": {},
     "output_type": "execute_result"
    }
   ],
   "source": [
    "# We can use the copy() method to create a copy of an array\n",
    "x3_sub_copy = x3[:2, :2].copy()\n",
    "x3_sub_copy[0, 0] = 42\n",
    "x3"
   ]
  },
  {
   "cell_type": "code",
   "execution_count": 30,
   "metadata": {},
   "outputs": [
    {
     "data": {
      "text/plain": [
       "array([[42,  0],\n",
       "       [ 0,  0]])"
      ]
     },
     "execution_count": 30,
     "metadata": {},
     "output_type": "execute_result"
    }
   ],
   "source": [
    "x3_sub_copy"
   ]
  },
  {
   "cell_type": "code",
   "execution_count": 31,
   "metadata": {},
   "outputs": [
    {
     "data": {
      "text/plain": [
       "array([0.        , 0.5       , 0.66666667, 0.75      , 0.8       ])"
      ]
     },
     "execution_count": 31,
     "metadata": {},
     "output_type": "execute_result"
    }
   ],
   "source": [
    "np.arange(5) / np.arange(1, 6)"
   ]
  },
  {
   "cell_type": "code",
   "execution_count": 32,
   "metadata": {},
   "outputs": [
    {
     "data": {
      "text/plain": [
       "array([0, 1, 2, 3, 4])"
      ]
     },
     "execution_count": 32,
     "metadata": {},
     "output_type": "execute_result"
    }
   ],
   "source": [
    "np.arange(5)"
   ]
  },
  {
   "cell_type": "code",
   "execution_count": 33,
   "metadata": {},
   "outputs": [
    {
     "data": {
      "text/plain": [
       "array([[  1,   2,   4],\n",
       "       [  8,  16,  32],\n",
       "       [ 64, 128, 256]])"
      ]
     },
     "execution_count": 33,
     "metadata": {},
     "output_type": "execute_result"
    }
   ],
   "source": [
    "x = np.arange(9).reshape((3, 3))\n",
    "2 ** x # Ufunc for exponentiation"
   ]
  },
  {
   "cell_type": "code",
   "execution_count": 34,
   "metadata": {},
   "outputs": [
    {
     "data": {
      "text/plain": [
       "array([5., 5., 2., 1.])"
      ]
     },
     "execution_count": 34,
     "metadata": {},
     "output_type": "execute_result"
    }
   ],
   "source": [
    "x = np.array([3 - 4j, 4 - 3j, 2 + 0j, 0 + 1j])\n",
    "np.abs(x)"
   ]
  },
  {
   "cell_type": "code",
   "execution_count": 35,
   "metadata": {},
   "outputs": [],
   "source": [
    "# Trigonometric functions\n",
    "x = np.array([3 - 4j, 4 - 3j, 2 + 0j, 0 + 1j])\n",
    "\n",
    "# Get the real part\n",
    "real_part = np.real(x)\n",
    "\n",
    "# Get the imaginary part\n",
    "imaginary_part = np.imag(x)\n",
    "\n",
    "# Get the complex conjugate\n",
    "complex_conjugate = np.conj(x)\n",
    "\n",
    "# Get the angle (or phase)\n",
    "angle = np.angle(x)\n",
    "\n",
    "# Compute the exponential\n",
    "exponential = np.exp(x)"
   ]
  },
  {
   "cell_type": "code",
   "execution_count": 36,
   "metadata": {},
   "outputs": [
    {
     "data": {
      "text/plain": [
       "array([-13.12878308+15.20078446j, -54.05175886 -7.70489137j,\n",
       "         7.3890561  +0.j        ,   0.54030231 +0.84147098j])"
      ]
     },
     "execution_count": 36,
     "metadata": {},
     "output_type": "execute_result"
    }
   ],
   "source": [
    "exponential"
   ]
  },
  {
   "cell_type": "code",
   "execution_count": null,
   "metadata": {},
   "outputs": [],
   "source": []
  }
 ],
 "metadata": {
  "kernelspec": {
   "display_name": "Python 3 (ipykernel)",
   "language": "python",
   "name": "python3"
  },
  "language_info": {
   "codemirror_mode": {
    "name": "ipython",
    "version": 3
   },
   "file_extension": ".py",
   "mimetype": "text/x-python",
   "name": "python",
   "nbconvert_exporter": "python",
   "pygments_lexer": "ipython3",
   "version": "3.10.12"
  }
 },
 "nbformat": 4,
 "nbformat_minor": 5
}
